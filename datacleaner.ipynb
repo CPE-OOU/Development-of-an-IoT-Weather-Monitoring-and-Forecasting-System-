{
 "cells": [
  {
   "cell_type": "code",
   "execution_count": 2,
   "id": "a39b9d88",
   "metadata": {},
   "outputs": [],
   "source": [
    "import pandas as pd\n",
    "excelfile ='DATA1.xlsx'\n",
    "rd = pd.read_excel(excelfile)\n",
    "csv_file = 'data1.csv'\n",
    "rd.to_csv(csv_file, index=False)"
   ]
  },
  {
   "cell_type": "code",
   "execution_count": 6,
   "id": "a9404360",
   "metadata": {},
   "outputs": [
    {
     "name": "stdout",
     "output_type": "stream",
     "text": [
      "                  Timestamp  Humidity  Temperature\n",
      "0  2023-10-19T01:00:08.218Z      88.0          NaN\n",
      "1  2023-10-19T01:00:09.028Z       NaN         27.1\n",
      "2  2023-10-19T01:01:08.314Z      88.0          NaN\n",
      "3  2023-10-19T01:01:09.044Z       NaN         27.1\n"
     ]
    }
   ],
   "source": [
    "import pandas as pd\n",
    "\n",
    "# Sample data\n",
    "data = [\n",
    "    [\"October 19, 2023 at 02:00AM\", \"Weather\", \"humidity\", 88, \"2023-10-19T01:00:08.218Z\"],\n",
    "    [\"October 19, 2023 at 02:00AM\", \"Weather\", \"temperature\", 27.10000038, \"2023-10-19T01:00:09.028Z\"],\n",
    "    [\"October 19, 2023 at 02:01AM\", \"Weather\", \"temperature\", 27.10000038, \"2023-10-19T01:01:09.044Z\"],\n",
    "    [\"October 19, 2023 at 02:01AM\", \"Weather\", \"humidity\", 88, \"2023-10-19T01:01:08.314Z\"]\n",
    "]\n",
    "\n",
    "# Create a DataFrame\n",
    "df = pd.DataFrame(data, columns=[\"Date\", \"Category\", \"Attribute\", \"Value\", \"Timestamp\"])\n",
    "\n",
    "# Pivot the table to rearrange the data\n",
    "reshaped_df = df.pivot(index=\"Timestamp\", columns=\"Attribute\", values=\"Value\").reset_index()\n",
    "\n",
    "# Rename columns as per the desired format\n",
    "reshaped_df.columns = [\"Timestamp\", \"Humidity\", \"Temperature\"]\n",
    "\n",
    "print(reshaped_df)\n"
   ]
  },
  {
   "cell_type": "code",
   "execution_count": 10,
   "id": "4b0c7d42",
   "metadata": {},
   "outputs": [
    {
     "name": "stdout",
     "output_type": "stream",
     "text": [
      "              Timestamp  Humidity  Temperature\n",
      "0   2023-10-19 01:02:08      88.0          NaN\n",
      "1   2023-10-19 01:02:09       NaN         27.1\n",
      "2   2023-10-19 01:03:08      88.0          NaN\n",
      "3   2023-10-19 01:03:09       NaN         27.1\n",
      "4   2023-10-19 01:04:08      88.0          NaN\n",
      "5   2023-10-19 01:04:09       NaN         27.1\n",
      "6   2023-10-19 01:05:08      88.0          NaN\n",
      "7   2023-10-19 01:05:09       NaN         27.1\n",
      "8   2023-10-19 01:06:08      88.0          NaN\n",
      "9   2023-10-19 01:06:09       NaN         27.1\n",
      "10  2023-10-19 01:07:08      88.0          NaN\n",
      "11  2023-10-19 01:07:09       NaN         27.1\n",
      "12  2023-10-19 01:08:08      88.0          NaN\n",
      "13  2023-10-19 01:08:09       NaN         27.1\n",
      "14  2023-10-19 01:09:08      88.0          NaN\n",
      "15  2023-10-19 01:09:09       NaN         27.1\n",
      "16  2023-10-19 01:10:08      88.0          NaN\n",
      "17  2023-10-19 01:10:09       NaN         27.1\n",
      "18  2023-10-19 01:11:08      88.0          NaN\n"
     ]
    }
   ],
   "source": [
    "import pandas as pd\n",
    "\n",
    "# Sample data\n",
    "data = [\n",
    "    [\"October 19, 2023 at 02:02AM\", \"Weather\", \"humidity\", 88, \"2023-10-19T01:02:08.320Z\"],\n",
    "    [\"October 19, 2023 at 02:02AM\", \"Weather\", \"temperature\", 27.10000038, \"2023-10-19T01:02:09.140Z\"],\n",
    "    [\"October 19, 2023 at 02:03AM\", \"Weather\", \"humidity\", 88, \"2023-10-19T01:03:08.344Z\"],\n",
    "    [\"October 19, 2023 at 02:03AM\", \"Weather\", \"temperature\", 27.10000038, \"2023-10-19T01:03:09.064Z\"],\n",
    "    [\"October 19, 2023 at 02:04AM\", \"Weather\", \"humidity\", 88, \"2023-10-19T01:04:08.345Z\"],\n",
    "    [\"October 19, 2023 at 02:04AM\", \"Weather\", \"temperature\", 27.10000038, \"2023-10-19T01:04:09.153Z\"],\n",
    "    [\"October 19, 2023 at 02:05AM\", \"Weather\", \"humidity\", 88, \"2023-10-19T01:05:08.347Z\"],\n",
    "    [\"October 19, 2023 at 02:05AM\", \"Weather\", \"temperature\", 27.10000038, \"2023-10-19T01:05:09.068Z\"],\n",
    "    [\"October 19, 2023 at 02:06AM\", \"Weather\", \"humidity\", 88, \"2023-10-19T01:06:08.340Z\"],\n",
    "    [\"October 19, 2023 at 02:06AM\", \"Weather\", \"temperature\", 27.10000038, \"2023-10-19T01:06:09.159Z\"],\n",
    "    [\"October 19, 2023 at 02:07AM\", \"Weather\", \"humidity\", 88, \"2023-10-19T01:07:08.378Z\"],\n",
    "    [\"October 19, 2023 at 02:07AM\", \"Weather\", \"temperature\", 27.10000038, \"2023-10-19T01:07:09.097Z\"],\n",
    "    [\"October 19, 2023 at 02:08AM\", \"Weather\", \"humidity\", 88, \"2023-10-19T01:08:08.475Z\"],\n",
    "    [\"October 19, 2023 at 02:08AM\", \"Weather\", \"temperature\", 27.10000038, \"2023-10-19T01:08:09.187Z\"],\n",
    "    [\"October 19, 2023 at 02:09AM\", \"Weather\", \"humidity\", 88, \"2023-10-19T01:09:08.467Z\"],\n",
    "    [\"October 19, 2023 at 02:09AM\", \"Weather\", \"temperature\", 27.10000038, \"2023-10-19T01:09:09.110Z\"],\n",
    "    [\"October 19, 2023 at 02:10AM\", \"Weather\", \"humidity\", 88, \"2023-10-19T01:10:08.475Z\"],\n",
    "    [\"October 19, 2023 at 02:10AM\", \"Weather\", \"temperature\", 27.10000038, \"2023-10-19T01:10:09.187Z\"],\n",
    "    [\"October 19, 2023 at 02:11AM\", \"Weather\", \"humidity\", 88, \"2023-10-19T01:11:08.498Z\"]\n",
    "]\n",
    "\n",
    "# Create a DataFrame\n",
    "df = pd.DataFrame(data, columns=[\"Date\", \"Category\", \"Attribute\", \"Value\", \"Timestamp\"])\n",
    "\n",
    "# Pivot the table to rearrange the data\n",
    "reshaped_df = df.pivot(index=\"Timestamp\", columns=\"Attribute\", values=\"Value\").reset_index()\n",
    "\n",
    "# Rename columns as per the desired format\n",
    "reshaped_df.columns = [\"Timestamp\", \"Humidity\", \"Temperature\"]\n",
    "\n",
    "# Convert Timestamp column to YYYY-MM-DD HH:MM:SS format\n",
    "reshaped_df['Timestamp'] = pd.to_datetime(reshaped_df['Timestamp']).dt.strftime('%Y-%m-%d %H:%M:%S')\n",
    "\n",
    "print(reshaped_df)\n"
   ]
  },
  {
   "cell_type": "code",
   "execution_count": 11,
   "id": "d9c3156b",
   "metadata": {},
   "outputs": [
    {
     "name": "stdout",
     "output_type": "stream",
     "text": [
      "File 'cleaneddata1.csv' saved successfully.\n"
     ]
    }
   ],
   "source": [
    "import pandas as pd\n",
    "\n",
    "# Sample data\n",
    "data = [\n",
    "    [\"October 19, 2023 at 02:02AM\", \"Weather\", \"humidity\", 88, \"2023-10-19T01:02:08.320Z\"],\n",
    "    [\"October 19, 2023 at 02:02AM\", \"Weather\", \"temperature\", 27.10000038, \"2023-10-19T01:02:09.140Z\"],\n",
    "    [\"October 19, 2023 at 02:03AM\", \"Weather\", \"humidity\", 88, \"2023-10-19T01:03:08.344Z\"],\n",
    "    [\"October 19, 2023 at 02:03AM\", \"Weather\", \"temperature\", 27.10000038, \"2023-10-19T01:03:09.064Z\"],\n",
    "    [\"October 19, 2023 at 02:04AM\", \"Weather\", \"humidity\", 88, \"2023-10-19T01:04:08.345Z\"],\n",
    "    [\"October 19, 2023 at 02:04AM\", \"Weather\", \"temperature\", 27.10000038, \"2023-10-19T01:04:09.153Z\"],\n",
    "    [\"October 19, 2023 at 02:05AM\", \"Weather\", \"humidity\", 88, \"2023-10-19T01:05:08.347Z\"],\n",
    "    [\"October 19, 2023 at 02:05AM\", \"Weather\", \"temperature\", 27.10000038, \"2023-10-19T01:05:09.068Z\"],\n",
    "    [\"October 19, 2023 at 02:06AM\", \"Weather\", \"humidity\", 88, \"2023-10-19T01:06:08.340Z\"],\n",
    "    [\"October 19, 2023 at 02:06AM\", \"Weather\", \"temperature\", 27.10000038, \"2023-10-19T01:06:09.159Z\"],\n",
    "    [\"October 19, 2023 at 02:07AM\", \"Weather\", \"humidity\", 88, \"2023-10-19T01:07:08.378Z\"],\n",
    "    [\"October 19, 2023 at 02:07AM\", \"Weather\", \"temperature\", 27.10000038, \"2023-10-19T01:07:09.097Z\"],\n",
    "    [\"October 19, 2023 at 02:08AM\", \"Weather\", \"humidity\", 88, \"2023-10-19T01:08:08.475Z\"],\n",
    "    [\"October 19, 2023 at 02:08AM\", \"Weather\", \"temperature\", 27.10000038, \"2023-10-19T01:08:09.187Z\"],\n",
    "    [\"October 19, 2023 at 02:09AM\", \"Weather\", \"humidity\", 88, \"2023-10-19T01:09:08.467Z\"],\n",
    "    [\"October 19, 2023 at 02:09AM\", \"Weather\", \"temperature\", 27.10000038, \"2023-10-19T01:09:09.110Z\"],\n",
    "    [\"October 19, 2023 at 02:10AM\", \"Weather\", \"humidity\", 88, \"2023-10-19T01:10:08.475Z\"],\n",
    "    [\"October 19, 2023 at 02:10AM\", \"Weather\", \"temperature\", 27.10000038, \"2023-10-19T01:10:09.187Z\"],\n",
    "    [\"October 19, 2023 at 02:11AM\", \"Weather\", \"humidity\", 88, \"2023-10-19T01:11:08.498Z\"]\n",
    "]\n",
    "\n",
    "# Create a DataFrame\n",
    "df = pd.DataFrame(data, columns=[\"Date\", \"Category\", \"Attribute\", \"Value\", \"Timestamp\"])\n",
    "\n",
    "# Pivot the table to rearrange the data\n",
    "reshaped_df = df.pivot(index=\"Timestamp\", columns=\"Attribute\", values=\"Value\").reset_index()\n",
    "\n",
    "# Rename columns as per the desired format\n",
    "reshaped_df.columns = [\"Timestamp\", \"Humidity\", \"Temperature\"]\n",
    "\n",
    "# Convert Timestamp column to YYYY-MM-DD HH:MM:SS format\n",
    "reshaped_df['Timestamp'] = pd.to_datetime(reshaped_df['Timestamp']).dt.strftime('%Y-%m-%d %H:%M:%S')\n",
    "\n",
    "# Save the cleaned data to a CSV file\n",
    "reshaped_df.to_csv('cleaneddata1.csv', index=False)\n",
    "\n",
    "print(\"File 'cleaneddata1.csv' saved successfully.\")\n"
   ]
  },
  {
   "cell_type": "code",
   "execution_count": 14,
   "id": "e0de7a37",
   "metadata": {},
   "outputs": [
    {
     "name": "stdout",
     "output_type": "stream",
     "text": [
      "File 'cleaneddata1.csv' saved successfully.\n"
     ]
    },
    {
     "name": "stderr",
     "output_type": "stream",
     "text": [
      "C:\\Users\\OCC\\AppData\\Local\\Temp\\ipykernel_8312\\3581079531.py:16: FutureWarning: DataFrame.fillna with 'method' is deprecated and will raise in a future version. Use obj.ffill() or obj.bfill() instead.\n",
      "  reshaped_df.fillna(method='ffill', inplace=True)\n"
     ]
    }
   ],
   "source": [
    "import pandas as pd\n",
    "\n",
    "# Read the data from the CSV file\n",
    "df = pd.read_csv('DATA1.csv', header=None, names=[\"Date\", \"Category\", \"Attribute\", \"Value\", \"Timestamp\"])\n",
    "\n",
    "# Pivot the table to rearrange the data\n",
    "reshaped_df = df.pivot(index=\"Timestamp\", columns=\"Attribute\", values=\"Value\").reset_index()\n",
    "\n",
    "# Rename columns as per the desired format\n",
    "reshaped_df.columns = [\"Timestamp\", \"Humidity\", \"Temperature\"]\n",
    "\n",
    "# Convert Timestamp column to YYYY-MM-DD HH:MM:SS format\n",
    "reshaped_df['Timestamp'] = pd.to_datetime(reshaped_df['Timestamp']).dt.strftime('%Y-%m-%d %H:%M:%S')\n",
    "\n",
    "# Fill missing values (empty spaces) with the next corresponding attribute value\n",
    "reshaped_df.fillna(method='ffill', inplace=True)\n",
    "\n",
    "# Save the cleaned data to a CSV file\n",
    "reshaped_df.to_csv('cleaneddata1.csv', index=False)\n",
    "\n",
    "print(\"File 'cleaneddata1.csv' saved successfully.\")\n"
   ]
  },
  {
   "cell_type": "code",
   "execution_count": 30,
   "id": "e240c155",
   "metadata": {},
   "outputs": [
    {
     "name": "stdout",
     "output_type": "stream",
     "text": [
      "File 'cleaneddata1.csv' saved successfully.\n",
      "File 'cleaneddata2.csv' saved successfully.\n",
      "File 'cleaneddata3.csv' saved successfully.\n",
      "File 'cleaneddata4.csv' saved successfully.\n",
      "File 'cleaneddata5.csv' saved successfully.\n",
      "File 'cleaneddata6.csv' saved successfully.\n",
      "File 'cleaneddata7.csv' saved successfully.\n",
      "File 'cleaneddata8.csv' saved successfully.\n",
      "File 'cleaneddata9.csv' saved successfully.\n",
      "File 'cleaneddata10.csv' saved successfully.\n",
      "File 'cleaneddata11.csv' saved successfully.\n",
      "File 'cleaneddata12.csv' saved successfully.\n",
      "File 'cleaneddata13.csv' saved successfully.\n",
      "File 'cleaneddata14.csv' saved successfully.\n",
      "File 'cleaneddata15.csv' saved successfully.\n",
      "File 'cleaneddata16.csv' saved successfully.\n",
      "File 'cleaneddata17.csv' saved successfully.\n",
      "File 'cleaneddata18.csv' saved successfully.\n",
      "File 'cleaneddata19.csv' saved successfully.\n",
      "File 'CompiledCleanedData.csv' saved successfully.\n",
      "Empty values filled in 'CompiledCleanedData.csv'.\n"
     ]
    },
    {
     "name": "stderr",
     "output_type": "stream",
     "text": [
      "C:\\Users\\OCC\\AppData\\Local\\Temp\\ipykernel_8312\\2055069099.py:65: FutureWarning: DataFrame.fillna with 'method' is deprecated and will raise in a future version. Use obj.ffill() or obj.bfill() instead.\n",
      "  compiled_cleaned_df.fillna(method='ffill', inplace=True)\n"
     ]
    }
   ],
   "source": [
    "import pandas as pd\n",
    "from dateutil import parser\n",
    "\n",
    "# Iterate through file names from DATA1.xlsx to DATA20.xlsx\n",
    "for i in range(1, 20):\n",
    "    excelfile = f'DATA{i}.xlsx'  # Use f-string to include the value of i in the file name\n",
    "    rd = pd.read_excel(excelfile)\n",
    "    csv_file = f'data{i}.csv'  # Use f-string to include the value of i in the file name\n",
    "    rd.to_csv(csv_file, index=False)\n",
    "    \n",
    "    # Read the data from the CSV file generated from the Excel file\n",
    "    file_name = f'data{i}.csv'\n",
    "    df = pd.read_csv(file_name, header=None, names=[\"Date\", \"Category\", \"Attribute\", \"Value\", \"Timestamp\"])\n",
    "\n",
    "    # Pivot the table to rearrange the data\n",
    "    pivot_table = df.pivot_table(index='Timestamp', columns='Attribute', values='Value', aggfunc='first').reset_index()\n",
    "\n",
    "    # Rename columns as per the desired format\n",
    "    pivot_table.columns = [\"Timestamp\", \"Humidity\", \"Temperature\"]\n",
    "\n",
    "    try:\n",
    "        # Convert Timestamp column to YYYY-MM-DD HH:MM:SS format\n",
    "        pivot_table['Timestamp'] = pivot_table['Timestamp'].apply(lambda x: parser.parse(str(x)).strftime('%Y-%m-%d %H:%M:%S'))\n",
    "    except ValueError as e:\n",
    "        print(f\"Error in converting Timestamp to datetime in file {file_name}: {e}\")\n",
    "\n",
    "    # Fill missing values (empty spaces) with the next corresponding attribute value\n",
    "    pivot_table.ffill(inplace=True)\n",
    "    \n",
    "    # Remove duplicate rows based on Timestamp, keeping only the first occurrence\n",
    "    pivot_table.drop_duplicates(subset='Timestamp', keep='first', inplace=True)\n",
    "\n",
    "    # Save the cleaned data to a CSV file\n",
    "    cleaned_file_name = f'cleaneddata{i}.csv'\n",
    "    pivot_table.to_csv(cleaned_file_name, index=False)\n",
    "\n",
    "    print(f\"File '{cleaned_file_name}' saved successfully.\")\n",
    "\n",
    "# List to store individual cleaned DataFrames\n",
    "cleaned_dfs = []\n",
    "\n",
    "# Iterate through file names from cleaneddata1.csv to cleaneddata20.csv\n",
    "for i in range(1, 20):\n",
    "    cleaned_file_name = f'cleaneddata{i}.csv'\n",
    "    df = pd.read_csv(cleaned_file_name)\n",
    "    cleaned_dfs.append(df)\n",
    "\n",
    "# Merge all the cleaned DataFrames into a single DataFrame\n",
    "merged_df = pd.concat(cleaned_dfs)\n",
    "\n",
    "# Sort the merged DataFrame based on 'Timestamp'\n",
    "merged_df['Timestamp'] = pd.to_datetime(merged_df['Timestamp'])\n",
    "merged_df.sort_values(by='Timestamp', inplace=True)\n",
    "\n",
    "# Save the compiled cleaned data to a CSV file\n",
    "compiled_cleaned_file_name = 'CompiledCleanedData.csv'\n",
    "merged_df.to_csv(compiled_cleaned_file_name, index=False)\n",
    "\n",
    "print(f\"File '{compiled_cleaned_file_name}' saved successfully.\")\n",
    "\n",
    "# Read the compiled cleaned data\n",
    "compiled_cleaned_df = pd.read_csv(compiled_cleaned_file_name)\n",
    "\n",
    "# Fill missing values (empty spaces) with the next corresponding attribute value\n",
    "compiled_cleaned_df.fillna(method='ffill', inplace=True)\n",
    "\n",
    "# Save the updated compiled cleaned data to the same file\n",
    "compiled_cleaned_df.to_csv(compiled_cleaned_file_name, index=False)\n",
    "\n",
    "print(f\"Empty values filled in '{compiled_cleaned_file_name}'.\")\n"
   ]
  },
  {
   "cell_type": "code",
   "execution_count": 56,
   "id": "bf7692af",
   "metadata": {},
   "outputs": [
    {
     "name": "stdout",
     "output_type": "stream",
     "text": [
      "Predicted temperature and humidity for the next hour:\n",
      "Temperature: 28.058755118177466\n",
      "Humidity: 58.20739282713315\n"
     ]
    },
    {
     "data": {
      "text/plain": [
       "['humidity_model_Arima.pkl']"
      ]
     },
     "execution_count": 56,
     "metadata": {},
     "output_type": "execute_result"
    }
   ],
   "source": [
    "import pandas as pd\n",
    "from statsmodels.tsa.arima.model import ARIMA\n",
    "import joblib\n",
    "\n",
    "# Load the dataset without parsing dates initially\n",
    "data = pd.read_csv('CompiledCleanedData.csv')\n",
    "\n",
    "# Convert 'Timestamp' column to datetime format\n",
    "data['Timestamp'] = pd.to_datetime(data['Timestamp'], format='%d/%m/%Y %H:%M')\n",
    "\n",
    "# Set Timestamp as index\n",
    "data.set_index('Timestamp', inplace=True)\n",
    "\n",
    "# Resample data to hourly frequency if not already in hourly intervals\n",
    "data = data.resample('H').mean().ffill()  # Adjust the resampling frequency as needed\n",
    "\n",
    "# Assuming 'Temperature' and 'Humidity' columns exist in the dataset\n",
    "temperature = data['Temperature']\n",
    "humidity = data['Humidity']\n",
    "\n",
    "# Train the ARIMA model for temperature\n",
    "temperature_model = ARIMA(temperature, order=(1, 0, 0))  # ARIMA parameters might need tuning\n",
    "temperature_model_fit = temperature_model.fit()\n",
    "\n",
    "# Train the ARIMA model for humidity\n",
    "humidity_model = ARIMA(humidity, order=(1, 0, 0))  # ARIMA parameters might need tuning\n",
    "humidity_model_fit = humidity_model.fit()\n",
    "\n",
    "# Predict for the next hour\n",
    "next_hour_temperature_prediction = temperature_model_fit.forecast(steps=1).iloc[0]\n",
    "next_hour_humidity_prediction = humidity_model_fit.forecast(steps=1).iloc[0]\n",
    "\n",
    "# Output the predicted values for the next hour\n",
    "print(\"Predicted temperature and humidity for the next hour:\")\n",
    "print(f\"Temperature: {next_hour_temperature_prediction}\")\n",
    "print(f\"Humidity: {next_hour_humidity_prediction}\")\n",
    "\n",
    "# Save the models for future use\n",
    "joblib.dump(temperature_model_fit, 'temperature_model_Arima.pkl')\n",
    "joblib.dump(humidity_model_fit, 'humidity_model_Arima.pkl')\n"
   ]
  },
  {
   "cell_type": "code",
   "execution_count": 58,
   "id": "f99699c7",
   "metadata": {},
   "outputs": [
    {
     "name": "stdout",
     "output_type": "stream",
     "text": [
      "Enter the current temperature: 30\n",
      "Enter the current humidity: 1\n",
      "Predicted temperature and humidity for the next hour:\n",
      "Temperature: 28.058755118177466\n",
      "Humidity: 58.20739282713315\n"
     ]
    }
   ],
   "source": [
    "import joblib\n",
    "from statsmodels.tsa.arima.model import ARIMAResults\n",
    "\n",
    "# Load the saved ARIMA models\n",
    "loaded_temperature_model = joblib.load('temperature_model_Arima.pkl')\n",
    "loaded_humidity_model = joblib.load('humidity_model_Arima.pkl')\n",
    "\n",
    "# Ask user for input\n",
    "user_input_temperature = float(input(\"Enter the current temperature: \"))\n",
    "user_input_humidity = float(input(\"Enter the current humidity: \"))\n",
    "\n",
    "# Predict for the next hour using the loaded models\n",
    "next_hour_temperature_prediction = loaded_temperature_model.forecast(steps=1).iloc[0]\n",
    "next_hour_humidity_prediction = loaded_humidity_model.forecast(steps=1).iloc[0]\n",
    "\n",
    "# Output the predicted values for the next hour\n",
    "print(\"Predicted temperature and humidity for the next hour:\")\n",
    "print(f\"Temperature: {next_hour_temperature_prediction}\")\n",
    "print(f\"Humidity: {next_hour_humidity_prediction}\")\n",
    "\n",
    "# Temperature: 28.527954315956844\n",
    "# Humidity: 48.51909538064127\n",
    "# Temperature: 28.689383599441847\n",
    "# Humidity: 49.367840456371894\n"
   ]
  },
  {
   "cell_type": "code",
   "execution_count": 6,
   "id": "c9b1ff74",
   "metadata": {},
   "outputs": [
    {
     "name": "stdout",
     "output_type": "stream",
     "text": [
      "Performing stepwise search to minimize aic\n",
      " ARIMA(2,0,2)(0,0,0)[0]             : AIC=209.237, Time=0.75 sec\n",
      " ARIMA(0,0,0)(0,0,0)[0]             : AIC=523.277, Time=0.02 sec\n",
      " ARIMA(1,0,0)(0,0,0)[0]             : AIC=inf, Time=0.05 sec\n",
      " ARIMA(0,0,1)(0,0,0)[0]             : AIC=456.598, Time=0.09 sec\n",
      " ARIMA(1,0,2)(0,0,0)[0]             : AIC=199.441, Time=0.33 sec\n",
      " ARIMA(0,0,2)(0,0,0)[0]             : AIC=inf, Time=0.21 sec\n",
      " ARIMA(1,0,1)(0,0,0)[0]             : AIC=205.626, Time=0.13 sec\n",
      " ARIMA(1,0,3)(0,0,0)[0]             : AIC=inf, Time=0.45 sec\n",
      " ARIMA(0,0,3)(0,0,0)[0]             : AIC=366.645, Time=0.33 sec\n",
      " ARIMA(2,0,1)(0,0,0)[0]             : AIC=inf, Time=0.47 sec\n",
      " ARIMA(2,0,3)(0,0,0)[0]             : AIC=inf, Time=0.59 sec\n",
      " ARIMA(1,0,2)(0,0,0)[0] intercept   : AIC=188.180, Time=0.40 sec\n",
      " ARIMA(0,0,2)(0,0,0)[0] intercept   : AIC=186.184, Time=0.10 sec\n",
      " ARIMA(0,0,1)(0,0,0)[0] intercept   : AIC=187.018, Time=0.06 sec\n",
      " ARIMA(0,0,3)(0,0,0)[0] intercept   : AIC=188.162, Time=0.13 sec\n",
      " ARIMA(1,0,1)(0,0,0)[0] intercept   : AIC=188.002, Time=0.31 sec\n",
      " ARIMA(1,0,3)(0,0,0)[0] intercept   : AIC=189.236, Time=0.50 sec\n",
      "\n",
      "Best model:  ARIMA(0,0,2)(0,0,0)[0] intercept\n",
      "Total fit time: 4.943 seconds\n",
      "Performing stepwise search to minimize aic\n",
      " ARIMA(2,1,2)(0,0,0)[0] intercept   : AIC=369.076, Time=0.28 sec\n",
      " ARIMA(0,1,0)(0,0,0)[0] intercept   : AIC=372.318, Time=0.02 sec\n",
      " ARIMA(1,1,0)(0,0,0)[0] intercept   : AIC=374.135, Time=0.05 sec\n",
      " ARIMA(0,1,1)(0,0,0)[0] intercept   : AIC=374.077, Time=0.05 sec\n",
      " ARIMA(0,1,0)(0,0,0)[0]             : AIC=370.694, Time=0.03 sec\n",
      " ARIMA(1,1,2)(0,0,0)[0] intercept   : AIC=inf, Time=0.30 sec\n",
      " ARIMA(2,1,1)(0,0,0)[0] intercept   : AIC=inf, Time=0.39 sec\n",
      " ARIMA(3,1,2)(0,0,0)[0] intercept   : AIC=367.330, Time=0.26 sec\n",
      " ARIMA(3,1,1)(0,0,0)[0] intercept   : AIC=365.368, Time=0.20 sec\n",
      " ARIMA(3,1,0)(0,0,0)[0] intercept   : AIC=367.406, Time=0.17 sec\n",
      " ARIMA(4,1,1)(0,0,0)[0] intercept   : AIC=367.513, Time=0.35 sec\n",
      " ARIMA(2,1,0)(0,0,0)[0] intercept   : AIC=375.862, Time=0.08 sec\n",
      " ARIMA(4,1,0)(0,0,0)[0] intercept   : AIC=365.513, Time=0.18 sec\n",
      " ARIMA(4,1,2)(0,0,0)[0] intercept   : AIC=inf, Time=0.65 sec\n",
      " ARIMA(3,1,1)(0,0,0)[0]             : AIC=364.937, Time=0.13 sec\n",
      " ARIMA(2,1,1)(0,0,0)[0]             : AIC=369.179, Time=0.15 sec\n",
      " ARIMA(3,1,0)(0,0,0)[0]             : AIC=366.131, Time=0.09 sec\n",
      " ARIMA(4,1,1)(0,0,0)[0]             : AIC=366.539, Time=0.22 sec\n",
      " ARIMA(3,1,2)(0,0,0)[0]             : AIC=366.905, Time=0.21 sec\n",
      " ARIMA(2,1,0)(0,0,0)[0]             : AIC=374.265, Time=0.06 sec\n",
      " ARIMA(2,1,2)(0,0,0)[0]             : AIC=368.757, Time=0.16 sec\n",
      " ARIMA(4,1,0)(0,0,0)[0]             : AIC=364.568, Time=0.11 sec\n",
      " ARIMA(5,1,0)(0,0,0)[0]             : AIC=366.559, Time=0.18 sec\n",
      " ARIMA(5,1,1)(0,0,0)[0]             : AIC=368.315, Time=0.47 sec\n",
      "\n",
      "Best model:  ARIMA(4,1,0)(0,0,0)[0]          \n",
      "Total fit time: 4.821 seconds\n",
      "Predicted temperature and humidity for the next hour:\n",
      "Temperature: 28.08295962406079\n",
      "Humidity: 57.211608650104814\n"
     ]
    },
    {
     "name": "stderr",
     "output_type": "stream",
     "text": [
      "C:\\Users\\OCC\\AppData\\Local\\Temp\\ipykernel_12672\\638456040.py:30: FutureWarning: Series.__getitem__ treating keys as positions is deprecated. In a future version, integer keys will always be treated as labels (consistent with DataFrame behavior). To access a value by position, use `ser.iloc[pos]`\n",
      "  next_hour_temperature_prediction = temperature_model_fit.predict(n_periods=1)[0]\n",
      "C:\\Users\\OCC\\AppData\\Local\\Temp\\ipykernel_12672\\638456040.py:31: FutureWarning: Series.__getitem__ treating keys as positions is deprecated. In a future version, integer keys will always be treated as labels (consistent with DataFrame behavior). To access a value by position, use `ser.iloc[pos]`\n",
      "  next_hour_humidity_prediction = humidity_model_fit.predict(n_periods=1)[0]\n"
     ]
    },
    {
     "data": {
      "text/plain": [
       "['humidity_model_AutoArima.pkl']"
      ]
     },
     "execution_count": 6,
     "metadata": {},
     "output_type": "execute_result"
    }
   ],
   "source": [
    "import pandas as pd\n",
    "from pmdarima import auto_arima\n",
    "import joblib\n",
    "\n",
    "# Load the dataset without parsing dates initially\n",
    "data = pd.read_csv('CompiledCleanedData.csv')\n",
    "\n",
    "# Convert 'Timestamp' column to datetime format\n",
    "data['Timestamp'] = pd.to_datetime(data['Timestamp'], format='%d/%m/%Y %H:%M')\n",
    "\n",
    "# Set Timestamp as index\n",
    "data.set_index('Timestamp', inplace=True)\n",
    "\n",
    "# Resample data to hourly frequency if not already in hourly intervals\n",
    "data = data.resample('d').mean().ffill()  # Adjust the resampling frequency as needed\n",
    "\n",
    "# Assuming 'Temperature' and 'Humidity' columns exist in the dataset\n",
    "temperature = data['Temperature']\n",
    "humidity = data['Humidity']\n",
    "\n",
    "# Fit auto ARIMA model for temperature\n",
    "temperature_model = auto_arima(temperature, seasonal=False, trace=True)  # Adjust parameters as needed\n",
    "temperature_model_fit = temperature_model.fit(temperature)\n",
    "\n",
    "# Fit auto ARIMA model for humidity\n",
    "humidity_model = auto_arima(humidity, seasonal=False, trace=True)  # Adjust parameters as needed\n",
    "humidity_model_fit = humidity_model.fit(humidity)\n",
    "\n",
    "# Predict for the next hour\n",
    "next_hour_temperature_prediction = temperature_model_fit.predict(n_periods=1)[0]\n",
    "next_hour_humidity_prediction = humidity_model_fit.predict(n_periods=1)[0]\n",
    "\n",
    "# Output the predicted values for the next hour\n",
    "print(\"Predicted temperature and humidity for the next hour:\")\n",
    "print(f\"Temperature: {next_hour_temperature_prediction}\")\n",
    "print(f\"Humidity: {next_hour_humidity_prediction}\")\n",
    "\n",
    "# Save the models for future use\n",
    "joblib.dump(temperature_model_fit, 'temperature_model_AutoArima.pkl')\n",
    "joblib.dump(humidity_model_fit, 'humidity_model_AutoArima.pkl')\n"
   ]
  },
  {
   "cell_type": "code",
   "execution_count": 7,
   "id": "6cc98bd5",
   "metadata": {},
   "outputs": [
    {
     "name": "stdout",
     "output_type": "stream",
     "text": [
      "Enter the current temperature: 49\n",
      "Enter the current humidity: 43\n",
      "\n",
      "Predicted temperature and humidity for the next hour:\n",
      "Temperature: 28.08295962406079\n",
      "Humidity: 57.211608650104814\n"
     ]
    },
    {
     "name": "stderr",
     "output_type": "stream",
     "text": [
      "C:\\Users\\OCC\\AppData\\Local\\Temp\\ipykernel_12672\\700682768.py:14: FutureWarning: Series.__getitem__ treating keys as positions is deprecated. In a future version, integer keys will always be treated as labels (consistent with DataFrame behavior). To access a value by position, use `ser.iloc[pos]`\n",
      "  next_hour_temperature_prediction = loaded_temperature_model.predict(n_periods=40, exogenous=[[user_temperature]])[0]\n",
      "C:\\Users\\OCC\\AppData\\Local\\Temp\\ipykernel_12672\\700682768.py:15: FutureWarning: Series.__getitem__ treating keys as positions is deprecated. In a future version, integer keys will always be treated as labels (consistent with DataFrame behavior). To access a value by position, use `ser.iloc[pos]`\n",
      "  next_hour_humidity_prediction = loaded_humidity_model.predict(n_periods=40, exogenous=[[user_humidity]])[0]\n"
     ]
    }
   ],
   "source": [
    "import joblib\n",
    "\n",
    "# Load the pre-trained models\n",
    "loaded_temperature_model = joblib.load('temperature_model_AutoArima.pkl')\n",
    "loaded_humidity_model = joblib.load('humidity_model_AutoArima.pkl')\n",
    "\n",
    "# Function to predict the next hour's values based on user input\n",
    "def predict_next_hour_temperature_humidity():\n",
    "    # Get user input for temperature and humidity\n",
    "    user_temperature = float(input(\"Enter the current temperature: \"))\n",
    "    user_humidity = float(input(\"Enter the current humidity: \"))\n",
    "\n",
    "    # Predict the next hour's values based on user input\n",
    "    next_hour_temperature_prediction = loaded_temperature_model.predict(n_periods=40, exogenous=[[user_temperature]])[0]\n",
    "    next_hour_humidity_prediction = loaded_humidity_model.predict(n_periods=40, exogenous=[[user_humidity]])[0]\n",
    "\n",
    "    # Output the predicted values for the next hour\n",
    "    print(\"\\nPredicted temperature and humidity for the next hour:\")\n",
    "    print(f\"Temperature: {next_hour_temperature_prediction}\")\n",
    "    print(f\"Humidity: {next_hour_humidity_prediction}\")\n",
    "\n",
    "# Call the function to predict based on user input\n",
    "predict_next_hour_temperature_humidity()\n"
   ]
  },
  {
   "cell_type": "code",
   "execution_count": null,
   "id": "ed90bd01",
   "metadata": {},
   "outputs": [],
   "source": []
  }
 ],
 "metadata": {
  "kernelspec": {
   "display_name": "Python 3 (ipykernel)",
   "language": "python",
   "name": "python3"
  },
  "language_info": {
   "codemirror_mode": {
    "name": "ipython",
    "version": 3
   },
   "file_extension": ".py",
   "mimetype": "text/x-python",
   "name": "python",
   "nbconvert_exporter": "python",
   "pygments_lexer": "ipython3",
   "version": "3.11.5"
  }
 },
 "nbformat": 4,
 "nbformat_minor": 5
}
